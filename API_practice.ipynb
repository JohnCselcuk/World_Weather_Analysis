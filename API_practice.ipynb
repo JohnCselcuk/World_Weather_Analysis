{
 "cells": [
  {
   "cell_type": "code",
   "execution_count": 1,
   "id": "2c34ee49",
   "metadata": {},
   "outputs": [],
   "source": [
    "# Create a practice set of random latitude and longitude combinations.\n",
    "x = [25.12903645, 25.92017388, 26.62509167, -59.98969384, 37.30571269]\n",
    "y = [-67.59741259, 11.09532135, 74.84233102, -76.89176677, -61.13376282]\n",
    "coordinates = zip(x, y)"
   ]
  },
  {
   "cell_type": "code",
   "execution_count": 2,
   "id": "5275df6a",
   "metadata": {},
   "outputs": [],
   "source": [
    "# Use the citipy module to determine city based on latitude and longitude.\n",
    "from citipy import citipy"
   ]
  },
  {
   "cell_type": "code",
   "execution_count": 3,
   "id": "bae2d3c7",
   "metadata": {},
   "outputs": [
    {
     "name": "stdout",
     "output_type": "stream",
     "text": [
      "cockburn town tc\n",
      "gat ly\n",
      "parvatsar in\n",
      "punta arenas cl\n",
      "saint george bm\n"
     ]
    }
   ],
   "source": [
    "# Use the tuple() function to display the latitude and longitude combinations.\n",
    "for coordinate in coordinates:\n",
    "    print(citipy.nearest_city(coordinate[0], coordinate[1]).city_name,\n",
    "          citipy.nearest_city(coordinate[0], coordinate[1]).country_code)"
   ]
  },
  {
   "cell_type": "code",
   "execution_count": 4,
   "id": "976281fc",
   "metadata": {},
   "outputs": [],
   "source": [
    "# Import the requests library.\n",
    "import requests"
   ]
  },
  {
   "cell_type": "code",
   "execution_count": 5,
   "id": "49312258",
   "metadata": {},
   "outputs": [],
   "source": [
    "# Import the API key.\n",
    "from config import weather_api_key"
   ]
  },
  {
   "cell_type": "code",
   "execution_count": 6,
   "id": "401fa27b",
   "metadata": {},
   "outputs": [
    {
     "name": "stdout",
     "output_type": "stream",
     "text": [
      "http://api.openweathermap.org/data/2.5/weather?units=Imperial&APPID=ceb3b84b08a4799ea009bd777db4b304\n"
     ]
    }
   ],
   "source": [
    "# Starting URL for Weather Map API Call.\n",
    "url = \"http://api.openweathermap.org/data/2.5/weather?units=Imperial&APPID=\" + weather_api_key\n",
    "print(url)"
   ]
  },
  {
   "cell_type": "code",
   "execution_count": 7,
   "id": "df54c796",
   "metadata": {},
   "outputs": [
    {
     "name": "stdout",
     "output_type": "stream",
     "text": [
      "http://api.openweathermap.org/data/2.5/weather?units=Imperial&APPID=ceb3b84b08a4799ea009bd777db4b304&q=Boston\n"
     ]
    }
   ],
   "source": [
    "# Create an endpoint URL for a city.\n",
    "city_url = url + \"&q=\" + \"Boston\"\n",
    "print(city_url)"
   ]
  },
  {
   "cell_type": "code",
   "execution_count": 8,
   "id": "3101a04e",
   "metadata": {},
   "outputs": [
    {
     "data": {
      "text/plain": [
       "<Response [200]>"
      ]
     },
     "execution_count": 8,
     "metadata": {},
     "output_type": "execute_result"
    }
   ],
   "source": [
    "# Make a 'Get' request for the city weather.\n",
    "city_weather = requests.get(city_url)\n",
    "city_weather"
   ]
  },
  {
   "cell_type": "code",
   "execution_count": 9,
   "id": "0d4894a1",
   "metadata": {},
   "outputs": [
    {
     "data": {
      "text/plain": [
       "<Response [404]>"
      ]
     },
     "execution_count": 9,
     "metadata": {},
     "output_type": "execute_result"
    }
   ],
   "source": [
    "# Create an endpoint URL for a city.\n",
    "city_url = url + \"&q=\" + \"Bston\"\n",
    "city_weather = requests.get(city_url)\n",
    "city_weather"
   ]
  },
  {
   "cell_type": "code",
   "execution_count": 10,
   "id": "397580a4",
   "metadata": {},
   "outputs": [
    {
     "data": {
      "text/plain": [
       "<Response [200]>"
      ]
     },
     "execution_count": 10,
     "metadata": {},
     "output_type": "execute_result"
    }
   ],
   "source": [
    "# Create an endpoint URL for a city.\n",
    "city_url = url + \"&q=\" + \"Boston\"\n",
    "city_weather = requests.get(city_url)\n",
    "city_weather"
   ]
  },
  {
   "cell_type": "code",
   "execution_count": 11,
   "id": "7dafe8ef",
   "metadata": {},
   "outputs": [
    {
     "data": {
      "text/plain": [
       "'{\"coord\":{\"lon\":-71.0598,\"lat\":42.3584},\"weather\":[{\"id\":800,\"main\":\"Clear\",\"description\":\"clear sky\",\"icon\":\"01n\"}],\"base\":\"stations\",\"main\":{\"temp\":57.87,\"feels_like\":57.34,\"temp_min\":53.35,\"temp_max\":62.13,\"pressure\":1026,\"humidity\":85},\"visibility\":10000,\"wind\":{\"speed\":3.24,\"deg\":140,\"gust\":3.62},\"clouds\":{\"all\":0},\"dt\":1633566091,\"sys\":{\"type\":2,\"id\":2003257,\"country\":\"US\",\"sunrise\":1633517214,\"sunset\":1633558643},\"timezone\":-14400,\"id\":4930956,\"name\":\"Boston\",\"cod\":200}'"
      ]
     },
     "execution_count": 11,
     "metadata": {},
     "output_type": "execute_result"
    }
   ],
   "source": [
    "# Get the text of the 'Get' request.\n",
    "city_weather.text"
   ]
  },
  {
   "cell_type": "code",
   "execution_count": 12,
   "id": "f0ad084f",
   "metadata": {},
   "outputs": [
    {
     "data": {
      "text/plain": [
       "{'coord': {'lon': -71.0598, 'lat': 42.3584},\n",
       " 'weather': [{'id': 800,\n",
       "   'main': 'Clear',\n",
       "   'description': 'clear sky',\n",
       "   'icon': '01n'}],\n",
       " 'base': 'stations',\n",
       " 'main': {'temp': 57.87,\n",
       "  'feels_like': 57.34,\n",
       "  'temp_min': 53.35,\n",
       "  'temp_max': 62.13,\n",
       "  'pressure': 1026,\n",
       "  'humidity': 85},\n",
       " 'visibility': 10000,\n",
       " 'wind': {'speed': 3.24, 'deg': 140, 'gust': 3.62},\n",
       " 'clouds': {'all': 0},\n",
       " 'dt': 1633566091,\n",
       " 'sys': {'type': 2,\n",
       "  'id': 2003257,\n",
       "  'country': 'US',\n",
       "  'sunrise': 1633517214,\n",
       "  'sunset': 1633558643},\n",
       " 'timezone': -14400,\n",
       " 'id': 4930956,\n",
       " 'name': 'Boston',\n",
       " 'cod': 200}"
      ]
     },
     "execution_count": 12,
     "metadata": {},
     "output_type": "execute_result"
    }
   ],
   "source": [
    "# Get the JSON text of the 'Get' request.\n",
    "city_weather.json()"
   ]
  },
  {
   "cell_type": "code",
   "execution_count": 13,
   "id": "bae13333",
   "metadata": {},
   "outputs": [
    {
     "name": "stdout",
     "output_type": "stream",
     "text": [
      "City Weather found.\n"
     ]
    }
   ],
   "source": [
    "# Create an endpoint URL for a city.\n",
    "city_url = url + \"&q=\" + \"Boston\"\n",
    "city_weather = requests.get(city_url)\n",
    "if city_weather.status_code == 200:\n",
    "    print(f\"City Weather found.\")\n",
    "else:\n",
    "    print(f\"City weather not found.\")"
   ]
  },
  {
   "cell_type": "code",
   "execution_count": 14,
   "id": "03d3bb83",
   "metadata": {},
   "outputs": [
    {
     "name": "stdout",
     "output_type": "stream",
     "text": [
      "City weather not found.\n"
     ]
    }
   ],
   "source": [
    "# Create an endpoint URL for a city.\n",
    "city_url = url + \"&q=\" + \"Bston\"\n",
    "city_weather = requests.get(city_url)\n",
    "if city_weather.status_code == 200:\n",
    "    print(f\"City Weather found.\")\n",
    "else:\n",
    "    print(f\"City weather not found.\")"
   ]
  },
  {
   "cell_type": "code",
   "execution_count": 15,
   "id": "13c245fd",
   "metadata": {},
   "outputs": [
    {
     "data": {
      "text/plain": [
       "<Response [404]>"
      ]
     },
     "execution_count": 15,
     "metadata": {},
     "output_type": "execute_result"
    }
   ],
   "source": [
    "# Make a 'Get' request for the city weather.\n",
    "city_weather = requests.get(city_url)\n",
    "city_weather"
   ]
  },
  {
   "cell_type": "code",
   "execution_count": 16,
   "id": "544664d8",
   "metadata": {},
   "outputs": [
    {
     "data": {
      "text/plain": [
       "<Response [404]>"
      ]
     },
     "execution_count": 16,
     "metadata": {},
     "output_type": "execute_result"
    }
   ],
   "source": [
    "# Create an endpoint URL for a city.\n",
    "city_url = url + \"&q=\" + \"Bston\"\n",
    "city_weather = requests.get(city_url)\n",
    "city_weather"
   ]
  },
  {
   "cell_type": "code",
   "execution_count": 17,
   "id": "0fe58c27",
   "metadata": {},
   "outputs": [
    {
     "data": {
      "text/plain": [
       "<Response [200]>"
      ]
     },
     "execution_count": 17,
     "metadata": {},
     "output_type": "execute_result"
    }
   ],
   "source": [
    "# Create an endpoint URL for a city.\n",
    "city_url = url + \"&q=\" + \"Boston\"\n",
    "city_weather = requests.get(city_url)\n",
    "city_weather"
   ]
  },
  {
   "cell_type": "code",
   "execution_count": 18,
   "id": "ab639250",
   "metadata": {},
   "outputs": [
    {
     "data": {
      "text/plain": [
       "'{\"coord\":{\"lon\":-71.0598,\"lat\":42.3584},\"weather\":[{\"id\":800,\"main\":\"Clear\",\"description\":\"clear sky\",\"icon\":\"01n\"}],\"base\":\"stations\",\"main\":{\"temp\":57.87,\"feels_like\":57.34,\"temp_min\":53.35,\"temp_max\":62.13,\"pressure\":1026,\"humidity\":85},\"visibility\":10000,\"wind\":{\"speed\":3.24,\"deg\":140,\"gust\":3.62},\"clouds\":{\"all\":0},\"dt\":1633566091,\"sys\":{\"type\":2,\"id\":2003257,\"country\":\"US\",\"sunrise\":1633517214,\"sunset\":1633558643},\"timezone\":-14400,\"id\":4930956,\"name\":\"Boston\",\"cod\":200}'"
      ]
     },
     "execution_count": 18,
     "metadata": {},
     "output_type": "execute_result"
    }
   ],
   "source": [
    "# Get the text of the 'Get' request.\n",
    "city_weather.text"
   ]
  },
  {
   "cell_type": "code",
   "execution_count": 19,
   "id": "34febab3",
   "metadata": {},
   "outputs": [
    {
     "data": {
      "text/plain": [
       "{'coord': {'lon': -71.0598, 'lat': 42.3584},\n",
       " 'weather': [{'id': 800,\n",
       "   'main': 'Clear',\n",
       "   'description': 'clear sky',\n",
       "   'icon': '01n'}],\n",
       " 'base': 'stations',\n",
       " 'main': {'temp': 57.87,\n",
       "  'feels_like': 57.34,\n",
       "  'temp_min': 53.35,\n",
       "  'temp_max': 62.13,\n",
       "  'pressure': 1026,\n",
       "  'humidity': 85},\n",
       " 'visibility': 10000,\n",
       " 'wind': {'speed': 3.24, 'deg': 140, 'gust': 3.62},\n",
       " 'clouds': {'all': 0},\n",
       " 'dt': 1633566091,\n",
       " 'sys': {'type': 2,\n",
       "  'id': 2003257,\n",
       "  'country': 'US',\n",
       "  'sunrise': 1633517214,\n",
       "  'sunset': 1633558643},\n",
       " 'timezone': -14400,\n",
       " 'id': 4930956,\n",
       " 'name': 'Boston',\n",
       " 'cod': 200}"
      ]
     },
     "execution_count": 19,
     "metadata": {},
     "output_type": "execute_result"
    }
   ],
   "source": [
    "# Get the JSON text of the 'Get' request.\n",
    "city_weather.json()"
   ]
  },
  {
   "cell_type": "code",
   "execution_count": 20,
   "id": "3f6f081e",
   "metadata": {},
   "outputs": [
    {
     "data": {
      "text/plain": [
       "13"
      ]
     },
     "execution_count": 20,
     "metadata": {},
     "output_type": "execute_result"
    }
   ],
   "source": [
    "len(city_weather.json())"
   ]
  },
  {
   "cell_type": "code",
   "execution_count": 23,
   "id": "743be708",
   "metadata": {},
   "outputs": [
    {
     "name": "stdout",
     "output_type": "stream",
     "text": [
      "City Weather found.\n"
     ]
    }
   ],
   "source": [
    "# Create an endpoint URL for a city.\n",
    "city_url = url + \"&q=\" + \"Boston\"\n",
    "city_weather = requests.get(city_url)\n",
    "if city_weather.status_code == 200:\n",
    "    print(f\"City Weather found.\")\n",
    "else:\n",
    "    print(f\"City weather not found.\")"
   ]
  },
  {
   "cell_type": "code",
   "execution_count": 24,
   "id": "a0e7b150",
   "metadata": {},
   "outputs": [
    {
     "data": {
      "text/plain": [
       "{'coord': {'lon': -71.0598, 'lat': 42.3584},\n",
       " 'weather': [{'id': 800,\n",
       "   'main': 'Clear',\n",
       "   'description': 'clear sky',\n",
       "   'icon': '01n'}],\n",
       " 'base': 'stations',\n",
       " 'main': {'temp': 57.87,\n",
       "  'feels_like': 57.34,\n",
       "  'temp_min': 53.35,\n",
       "  'temp_max': 62.13,\n",
       "  'pressure': 1026,\n",
       "  'humidity': 85},\n",
       " 'visibility': 10000,\n",
       " 'wind': {'speed': 3.24, 'deg': 140, 'gust': 3.62},\n",
       " 'clouds': {'all': 0},\n",
       " 'dt': 1633566091,\n",
       " 'sys': {'type': 2,\n",
       "  'id': 2003257,\n",
       "  'country': 'US',\n",
       "  'sunrise': 1633517214,\n",
       "  'sunset': 1633558643},\n",
       " 'timezone': -14400,\n",
       " 'id': 4930956,\n",
       " 'name': 'Boston',\n",
       " 'cod': 200}"
      ]
     },
     "execution_count": 24,
     "metadata": {},
     "output_type": "execute_result"
    }
   ],
   "source": [
    "# Create an endpoint for URL for a city\n",
    "city_url = url + \"&q=\" + \"Boston\"\n",
    "city_weather = requests.get(city_url)\n",
    "city_weather.json()"
   ]
  },
  {
   "cell_type": "code",
   "execution_count": 25,
   "id": "0ec6760f",
   "metadata": {},
   "outputs": [],
   "source": [
    "# Get the JSON data.\n",
    "boston_data = city_weather.json()"
   ]
  },
  {
   "cell_type": "code",
   "execution_count": 29,
   "id": "78e07988",
   "metadata": {},
   "outputs": [
    {
     "data": {
      "text/plain": [
       "'US'"
      ]
     },
     "execution_count": 29,
     "metadata": {},
     "output_type": "execute_result"
    }
   ],
   "source": [
    "boston_data[\"sys\"][\"country\"]"
   ]
  },
  {
   "cell_type": "code",
   "execution_count": 31,
   "id": "e57f5cad",
   "metadata": {},
   "outputs": [
    {
     "data": {
      "text/plain": [
       "1633566091"
      ]
     },
     "execution_count": 31,
     "metadata": {},
     "output_type": "execute_result"
    }
   ],
   "source": [
    "boston_data[\"dt\"]"
   ]
  },
  {
   "cell_type": "code",
   "execution_count": 32,
   "id": "d18b0841",
   "metadata": {},
   "outputs": [
    {
     "name": "stdout",
     "output_type": "stream",
     "text": [
      "42.3584 -71.0598 62.13 85 0 3.24\n"
     ]
    }
   ],
   "source": [
    "lat = boston_data[\"coord\"][\"lat\"]\n",
    "lng = boston_data[\"coord\"][\"lon\"]\n",
    "max_temp = boston_data[\"main\"][\"temp_max\"]\n",
    "humidity = boston_data[\"main\"][\"humidity\"]\n",
    "clouds = boston_data[\"clouds\"][\"all\"]\n",
    "wind = boston_data[\"wind\"][\"speed\"]\n",
    "print(lat, lng, max_temp, humidity, clouds, wind)"
   ]
  },
  {
   "cell_type": "code",
   "execution_count": 33,
   "id": "d7b4595f",
   "metadata": {},
   "outputs": [
    {
     "data": {
      "text/plain": [
       "datetime.datetime(2021, 10, 7, 0, 21, 31)"
      ]
     },
     "execution_count": 33,
     "metadata": {},
     "output_type": "execute_result"
    }
   ],
   "source": [
    "# Import the datetime module from the datetime library.\n",
    "from datetime import datetime\n",
    "# Get the date from the JSON file.\n",
    "date = boston_data[\"dt\"]\n",
    "# Convert the UTC date to a date format with year, month, day, hours, minutes, and seconds.\n",
    "datetime.utcfromtimestamp(date)"
   ]
  },
  {
   "cell_type": "code",
   "execution_count": 38,
   "id": "70517d2e",
   "metadata": {},
   "outputs": [
    {
     "data": {
      "text/plain": [
       "'2021-10-07 00:21:31'"
      ]
     },
     "execution_count": 38,
     "metadata": {},
     "output_type": "execute_result"
    }
   ],
   "source": [
    "# Convert the datetime format using the Python string format method: strftime()\n",
    "datetime.utcfromtimestamp(date).strftime('%Y-%m-%d %H:%M:%S')"
   ]
  },
  {
   "cell_type": "code",
   "execution_count": null,
   "id": "ea7729eb",
   "metadata": {},
   "outputs": [],
   "source": []
  }
 ],
 "metadata": {
  "kernelspec": {
   "display_name": "Python 3 (ipykernel)",
   "language": "python",
   "name": "python3"
  },
  "language_info": {
   "codemirror_mode": {
    "name": "ipython",
    "version": 3
   },
   "file_extension": ".py",
   "mimetype": "text/x-python",
   "name": "python",
   "nbconvert_exporter": "python",
   "pygments_lexer": "ipython3",
   "version": "3.8.11"
  }
 },
 "nbformat": 4,
 "nbformat_minor": 5
}
